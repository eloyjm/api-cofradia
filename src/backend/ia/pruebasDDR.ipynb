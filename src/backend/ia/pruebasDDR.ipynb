{
 "cells": [
  {
   "cell_type": "code",
   "execution_count": null,
   "metadata": {},
   "outputs": [],
   "source": [
    "#Categorizar una imagen de internet\n",
    "from PIL import Image\n",
    "import requests\n",
    "from io import BytesIO\n",
    "import cv2\n",
    "import numpy as np\n",
    "import tensorflow as tf\n",
    "import tensorflow_hub as hub\n",
    "from tensorflow.keras.models import load_model\n",
    "\n",
    "modelo = \"DDRDENSENET100\"\n",
    "\n",
    "custom_objects = {'KerasLayer': hub.KerasLayer}\n",
    "modelo = tf.keras.models.load_model(f'./models/DDR/{modelo}.h5', custom_objects=custom_objects)\n",
    "\n",
    "hermandades = {0:\"EL AMOR\", 1:\"JESUS DESPOJADO\", 2:\"LA AMARGURA\", 3:\"LA ESTRELLA\", 4:\"LA HINIESTA\", 5:\"LA PAZ\", 6:\"SAN ROQUE\"}"
   ]
  },
  {
   "cell_type": "code",
   "execution_count": null,
   "metadata": {},
   "outputs": [],
   "source": [
    "def categorizar(url, hermandades):\n",
    "  respuesta = requests.get(url)\n",
    "  img = Image.open(BytesIO(respuesta.content))\n",
    "  img = np.array(img).astype(float)/255\n",
    "\n",
    "  img = cv2.resize(img, (224,224))\n",
    "  prediccion = modelo.predict(img.reshape(-1, 224, 224, 3))\n",
    "  print(prediccion)\n",
    "  if max(prediccion[0]) >= 0.7:\n",
    "      top = np.argmax(prediccion[0], axis=-1)\n",
    "      return hermandades[top]\n",
    "  else:\n",
    "      index = np.argpartition(prediccion[0], -3)[-3:]\n",
    "      indices = index[np.argsort(-prediccion[0][index])]\n",
    "      return [hermandades[i] for i in indices]"
   ]
  },
  {
   "cell_type": "code",
   "execution_count": null,
   "metadata": {},
   "outputs": [],
   "source": [
    "def categorizar_local(ruta_imagen, hermandades):\n",
    "    img = cv2.imread(ruta_imagen)\n",
    "    \n",
    "    if img is None:\n",
    "        raise Exception(f\"No se pudo cargar la imagen en {ruta_imagen}\")\n",
    "    img = cv2.resize(img, (224, 224))\n",
    "    img = img / 255.0\n",
    "    img = img.reshape(-1, 224, 224, 3)\n",
    "    prediccion = modelo.predict(img)\n",
    "    print(prediccion)\n",
    "    if max(prediccion[0]) >= 0.7:\n",
    "        top = np.argmax(prediccion[0], axis=-1)\n",
    "        return hermandades[top]\n",
    "    else:\n",
    "        index = np.argpartition(prediccion[0], -3)[-3:]\n",
    "        indices = index[np.argsort(-prediccion[0][index])]\n",
    "        return [hermandades[i] for i in indices]"
   ]
  },
  {
   "cell_type": "code",
   "execution_count": null,
   "metadata": {},
   "outputs": [],
   "source": [
    "#0 = jesus, 1 = hiniesta, 2 = paz\n",
    "url = 'https://encrypted-tbn0.gstatic.com/images?q=tbn:ANd9GcQjloCNXVbKHmjkDOZiECiazV5J3MpHjxtu5A&usqp=CAU' #debe ser la hiniesta\n",
    "print(categorizar(url, hermandades))\n"
   ]
  },
  {
   "cell_type": "code",
   "execution_count": null,
   "metadata": {},
   "outputs": [],
   "source": [
    "ruta_imagen = 'C:\\\\Users\\\\super\\\\OneDrive\\\\Escritorio\\\\Captura de pantalla 2024-01-17 184200.png'\n",
    "print(categorizar_local(ruta_imagen, hermandades))\n"
   ]
  }
 ],
 "metadata": {
  "kernelspec": {
   "display_name": "venv",
   "language": "python",
   "name": "python3"
  },
  "language_info": {
   "codemirror_mode": {
    "name": "ipython",
    "version": 3
   },
   "file_extension": ".py",
   "mimetype": "text/x-python",
   "name": "python",
   "nbconvert_exporter": "python",
   "pygments_lexer": "ipython3",
   "version": "3.11.5"
  }
 },
 "nbformat": 4,
 "nbformat_minor": 2
}
