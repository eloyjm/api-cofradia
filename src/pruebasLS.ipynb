{
 "cells": [
  {
   "cell_type": "code",
   "execution_count": null,
   "metadata": {},
   "outputs": [],
   "source": [
    "#Categorizar una imagen de internet\n",
    "from PIL import Image\n",
    "import requests\n",
    "from io import BytesIO\n",
    "import cv2\n",
    "import numpy as np\n",
    "import tensorflow as tf\n",
    "import tensorflow_hub as hub\n",
    "from tensorflow.keras.models import load_model\n",
    "\n",
    "\n",
    "modelo = \"modeloLS\"\n",
    "\n",
    "custom_objects = {'KerasLayer': hub.KerasLayer}\n",
    "modelo = tf.keras.models.load_model(f'../models/{modelo}.h5', custom_objects=custom_objects)\n",
    "hermandadesLS = {0:\"LAS AGUAS\", 1:\"SAN GONZALO\", 2:\"SAN PABLO\", 3:\"SANTA GENOVENA\", 4:\"SANTA MARTA\", 5:\"VERA CRUZ\"}"
   ]
  },
  {
   "cell_type": "code",
   "execution_count": null,
   "metadata": {},
   "outputs": [],
   "source": [
    "def categorizar(url):\n",
    "  respuesta = requests.get(url)\n",
    "  img = Image.open(BytesIO(respuesta.content))\n",
    "  img = np.array(img).astype(float)/255\n",
    "\n",
    "  img = cv2.resize(img, (224,224))\n",
    "  prediccion = modelo.predict(img.reshape(-1, 224, 224, 3))\n",
    "  print(prediccion)\n",
    "  return np.argmax(prediccion[0], axis=-1)"
   ]
  },
  {
   "cell_type": "code",
   "execution_count": null,
   "metadata": {},
   "outputs": [],
   "source": [
    "def categorizar_local(ruta_imagen):\n",
    "    img = cv2.imread(ruta_imagen)\n",
    "    \n",
    "    if img is None:\n",
    "        raise Exception(f\"No se pudo cargar la imagen en {ruta_imagen}\")\n",
    "    img = cv2.resize(img, (224, 224))\n",
    "    img = img / 255.0\n",
    "    img = img.reshape(-1, 224, 224, 3)\n",
    "    prediccion = modelo.predict(img)\n",
    "    print(prediccion)\n",
    "    return np.argmax(prediccion[0], axis=-1)"
   ]
  },
  {
   "cell_type": "code",
   "execution_count": null,
   "metadata": {},
   "outputs": [],
   "source": [
    "url = 'https://i.pinimg.com/originals/99/88/6d/99886daf77587594ac58071fdae4971c.jpg'\n",
    "prediccion = categorizar (url)\n",
    "print(hermandadesLS[prediccion])"
   ]
  },
  {
   "cell_type": "code",
   "execution_count": null,
   "metadata": {},
   "outputs": [],
   "source": [
    "ruta_imagen = 'C:\\\\Users\\\\super\\\\OneDrive\\\\Escritorio\\\\Captura de pantalla 2024-01-17 184200.png'\n",
    "print(hermandades[categorizar_local(ruta_imagen)])"
   ]
  }
 ],
 "metadata": {
  "kernelspec": {
   "display_name": "venv",
   "language": "python",
   "name": "python3"
  },
  "language_info": {
   "codemirror_mode": {
    "name": "ipython",
    "version": 3
   },
   "file_extension": ".py",
   "mimetype": "text/x-python",
   "name": "python",
   "nbconvert_exporter": "python",
   "pygments_lexer": "ipython3",
   "version": "3.11.5"
  }
 },
 "nbformat": 4,
 "nbformat_minor": 2
}
