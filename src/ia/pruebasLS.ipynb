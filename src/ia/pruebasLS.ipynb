{
 "cells": [
  {
   "cell_type": "code",
   "execution_count": 1,
   "metadata": {},
   "outputs": [
    {
     "name": "stdout",
     "output_type": "stream",
     "text": [
      "WARNING:tensorflow:From c:\\Users\\super\\OneDrive - UNIVERSIDAD DE SEVILLA\\TFG\\workspace\\cofradIA\\venv\\Lib\\site-packages\\keras\\src\\losses.py:2976: The name tf.losses.sparse_softmax_cross_entropy is deprecated. Please use tf.compat.v1.losses.sparse_softmax_cross_entropy instead.\n",
      "\n",
      "WARNING:tensorflow:From c:\\Users\\super\\OneDrive - UNIVERSIDAD DE SEVILLA\\TFG\\workspace\\cofradIA\\venv\\Lib\\site-packages\\tensorflow_estimator\\python\\estimator\\util.py:74: The name tf.train.SessionRunHook is deprecated. Please use tf.estimator.SessionRunHook instead.\n",
      "\n",
      "WARNING:tensorflow:From c:\\Users\\super\\OneDrive - UNIVERSIDAD DE SEVILLA\\TFG\\workspace\\cofradIA\\venv\\Lib\\site-packages\\tensorflow_hub\\native_module.py:92: The name tf.GraphKeys is deprecated. Please use tf.compat.v1.GraphKeys instead.\n",
      "\n",
      "WARNING:tensorflow:From c:\\Users\\super\\OneDrive - UNIVERSIDAD DE SEVILLA\\TFG\\workspace\\cofradIA\\venv\\Lib\\site-packages\\tensorflow_hub\\saved_model_module.py:40: The name tf.saved_model.constants.LEGACY_INIT_OP_KEY is deprecated. Please use tf.compat.v1.saved_model.constants.LEGACY_INIT_OP_KEY instead.\n",
      "\n",
      "WARNING:tensorflow:From c:\\Users\\super\\OneDrive - UNIVERSIDAD DE SEVILLA\\TFG\\workspace\\cofradIA\\venv\\Lib\\site-packages\\keras\\src\\backend.py:1398: The name tf.executing_eagerly_outside_functions is deprecated. Please use tf.compat.v1.executing_eagerly_outside_functions instead.\n",
      "\n",
      "WARNING:tensorflow:From c:\\Users\\super\\OneDrive - UNIVERSIDAD DE SEVILLA\\TFG\\workspace\\cofradIA\\venv\\Lib\\site-packages\\keras\\src\\layers\\pooling\\max_pooling2d.py:161: The name tf.nn.max_pool is deprecated. Please use tf.nn.max_pool2d instead.\n",
      "\n"
     ]
    }
   ],
   "source": [
    "#Categorizar una imagen de internet\n",
    "from PIL import Image\n",
    "import requests\n",
    "from io import BytesIO\n",
    "import cv2\n",
    "import numpy as np\n",
    "import tensorflow as tf\n",
    "import tensorflow_hub as hub\n",
    "from tensorflow.keras.models import load_model\n",
    "\n",
    "\n",
    "modelo = \"LSDENSENET100\"\n",
    "\n",
    "custom_objects = {'KerasLayer': hub.KerasLayer}\n",
    "modelo = tf.keras.models.load_model(f'./models/LS/{modelo}.h5', custom_objects=custom_objects)\n",
    "hermandadesLS = {0:\"LAS AGUAS\", 1:\"SAN GONZALO\", 2:\"SAN PABLO\", 3:\"SANTA GENOVENA\", 4:\"SANTA MARTA\", 5:\"VERA CRUZ\"}"
   ]
  },
  {
   "cell_type": "code",
   "execution_count": 46,
   "metadata": {},
   "outputs": [],
   "source": [
    "def categorizar(url, hermandades):\n",
    "    respuesta = requests.get(url)\n",
    "    img = Image.open(BytesIO(respuesta.content))\n",
    "    img = np.array(img).astype(float)/255\n",
    "\n",
    "    img = cv2.resize(img, (224,224))\n",
    "    prediccion = modelo.predict(img.reshape(-1, 224, 224, 3))\n",
    "    print(prediccion[0])\n",
    "    if max(prediccion[0]) >= 0.7:\n",
    "        top = np.argmax(prediccion[0], axis=-1)\n",
    "        return hermandades[top]\n",
    "    else:\n",
    "        index = np.argpartition(prediccion[0], -3)[-3:]\n",
    "        indices = index[np.argsort(-prediccion[0][index])]\n",
    "        return [hermandades[i] for i in indices]"
   ]
  },
  {
   "cell_type": "code",
   "execution_count": 43,
   "metadata": {},
   "outputs": [],
   "source": [
    "def categorizar_local(ruta_imagen, hermandades):\n",
    "    img = cv2.imread(ruta_imagen)\n",
    "    \n",
    "    if img is None:\n",
    "        raise Exception(f\"No se pudo cargar la imagen en {ruta_imagen}\")\n",
    "    img = cv2.resize(img, (224, 224))\n",
    "    img = img / 255.0\n",
    "    img = img.reshape(-1, 224, 224, 3)\n",
    "    prediccion = modelo.predict(img)\n",
    "    print(prediccion[0])\n",
    "    if max(prediccion[0]) >= 0.7:\n",
    "        top = np.argmax(prediccion[0], axis=-1)\n",
    "        return hermandades[top]\n",
    "    else:\n",
    "        index = np.argpartition(prediccion[0], -3)[-3:]\n",
    "        indices = index[np.argsort(-prediccion[0][index])]\n",
    "        return [hermandades[i] for i in indices]"
   ]
  },
  {
   "cell_type": "code",
   "execution_count": 48,
   "metadata": {},
   "outputs": [
    {
     "name": "stdout",
     "output_type": "stream",
     "text": [
      "1/1 [==============================] - 0s 192ms/step\n",
      "[4.1433513e-02 1.7419460e-04 2.6818213e-01 6.6042215e-01 2.9714208e-02\n",
      " 7.3881558e-05]\n",
      "['SANTA GENOVENA', 'SAN PABLO', 'LAS AGUAS']\n"
     ]
    }
   ],
   "source": [
    "\n",
    "url = 'https://encrypted-tbn0.gstatic.com/images?q=tbn:ANd9GcSHZF48xe_ksxgPEFYgK6jn2AcySDWptCPEgw&usqp=CAU'\n",
    "\n",
    "print(categorizar(url, hermandadesLS))\n"
   ]
  },
  {
   "cell_type": "code",
   "execution_count": null,
   "metadata": {},
   "outputs": [],
   "source": [
    "ruta_imagen = 'C:\\\\Users\\\\super\\\\OneDrive\\\\Escritorio\\\\Captura de pantalla 2024-01-17 184200.png'\n",
    "print(categorizar_local(ruta_imagen, hermandadesLS))"
   ]
  }
 ],
 "metadata": {
  "kernelspec": {
   "display_name": "venv",
   "language": "python",
   "name": "python3"
  },
  "language_info": {
   "codemirror_mode": {
    "name": "ipython",
    "version": 3
   },
   "file_extension": ".py",
   "mimetype": "text/x-python",
   "name": "python",
   "nbconvert_exporter": "python",
   "pygments_lexer": "ipython3",
   "version": "3.11.5"
  }
 },
 "nbformat": 4,
 "nbformat_minor": 2
}
