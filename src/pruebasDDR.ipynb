{
 "cells": [
  {
   "cell_type": "code",
   "execution_count": 2,
   "metadata": {},
   "outputs": [
    {
     "name": "stdout",
     "output_type": "stream",
     "text": [
      "WARNING:tensorflow:From c:\\Users\\super\\OneDrive - UNIVERSIDAD DE SEVILLA\\TFG\\workspace\\cofradIA\\venv\\Lib\\site-packages\\keras\\src\\losses.py:2976: The name tf.losses.sparse_softmax_cross_entropy is deprecated. Please use tf.compat.v1.losses.sparse_softmax_cross_entropy instead.\n",
      "\n",
      "WARNING:tensorflow:From c:\\Users\\super\\OneDrive - UNIVERSIDAD DE SEVILLA\\TFG\\workspace\\cofradIA\\venv\\Lib\\site-packages\\tensorflow_estimator\\python\\estimator\\util.py:74: The name tf.train.SessionRunHook is deprecated. Please use tf.estimator.SessionRunHook instead.\n",
      "\n",
      "WARNING:tensorflow:From c:\\Users\\super\\OneDrive - UNIVERSIDAD DE SEVILLA\\TFG\\workspace\\cofradIA\\venv\\Lib\\site-packages\\tensorflow_hub\\native_module.py:92: The name tf.GraphKeys is deprecated. Please use tf.compat.v1.GraphKeys instead.\n",
      "\n",
      "WARNING:tensorflow:From c:\\Users\\super\\OneDrive - UNIVERSIDAD DE SEVILLA\\TFG\\workspace\\cofradIA\\venv\\Lib\\site-packages\\tensorflow_hub\\saved_model_module.py:40: The name tf.saved_model.constants.LEGACY_INIT_OP_KEY is deprecated. Please use tf.compat.v1.saved_model.constants.LEGACY_INIT_OP_KEY instead.\n",
      "\n",
      "WARNING:tensorflow:From c:\\Users\\super\\OneDrive - UNIVERSIDAD DE SEVILLA\\TFG\\workspace\\cofradIA\\venv\\Lib\\site-packages\\keras\\src\\backend.py:1398: The name tf.executing_eagerly_outside_functions is deprecated. Please use tf.compat.v1.executing_eagerly_outside_functions instead.\n",
      "\n",
      "WARNING:tensorflow:From c:\\Users\\super\\OneDrive - UNIVERSIDAD DE SEVILLA\\TFG\\workspace\\cofradIA\\venv\\Lib\\site-packages\\tensorflow_hub\\resolver.py:120: The name tf.gfile.MakeDirs is deprecated. Please use tf.io.gfile.makedirs instead.\n",
      "\n"
     ]
    },
    {
     "name": "stderr",
     "output_type": "stream",
     "text": [
      "WARNING:tensorflow:From c:\\Users\\super\\OneDrive - UNIVERSIDAD DE SEVILLA\\TFG\\workspace\\cofradIA\\venv\\Lib\\site-packages\\tensorflow_hub\\resolver.py:120: The name tf.gfile.MakeDirs is deprecated. Please use tf.io.gfile.makedirs instead.\n",
      "\n"
     ]
    },
    {
     "name": "stdout",
     "output_type": "stream",
     "text": [
      "WARNING:tensorflow:From c:\\Users\\super\\OneDrive - UNIVERSIDAD DE SEVILLA\\TFG\\workspace\\cofradIA\\venv\\Lib\\site-packages\\tensorflow_hub\\module_v2.py:120: The name tf.saved_model.load_v2 is deprecated. Please use tf.compat.v2.saved_model.load instead.\n",
      "\n"
     ]
    },
    {
     "name": "stderr",
     "output_type": "stream",
     "text": [
      "WARNING:tensorflow:From c:\\Users\\super\\OneDrive - UNIVERSIDAD DE SEVILLA\\TFG\\workspace\\cofradIA\\venv\\Lib\\site-packages\\tensorflow_hub\\module_v2.py:120: The name tf.saved_model.load_v2 is deprecated. Please use tf.compat.v2.saved_model.load instead.\n",
      "\n"
     ]
    }
   ],
   "source": [
    "#Categorizar una imagen de internet\n",
    "from PIL import Image\n",
    "import requests\n",
    "from io import BytesIO\n",
    "import cv2\n",
    "import numpy as np\n",
    "import tensorflow as tf\n",
    "import tensorflow_hub as hub\n",
    "from tensorflow.keras.models import load_model\n",
    "\n",
    "custom_objects = {'KerasLayer': hub.KerasLayer}\n",
    "modelo = tf.keras.models.load_model('../models/modeloDDR.h5', custom_objects=custom_objects)\n",
    "hermandades = {0:\"EL AMOR\", 1:\"JESUS DESPOJADO\", 2:\"LA AMARGURA\", 3:\"LA ESTRELLA\", 4:\"LA HINIESTA\", 5:\"LA PAZ\", 6:\"SAN ROQUE\"}"
   ]
  },
  {
   "cell_type": "code",
   "execution_count": 5,
   "metadata": {},
   "outputs": [],
   "source": [
    "def categorizar(url):\n",
    "  respuesta = requests.get(url)\n",
    "  img = Image.open(BytesIO(respuesta.content))\n",
    "  img = np.array(img).astype(float)/255\n",
    "\n",
    "  img = cv2.resize(img, (224,224))\n",
    "  prediccion = modelo.predict(img.reshape(-1, 224, 224, 3))\n",
    "  print(prediccion)\n",
    "\n",
    "  return np.argmax(prediccion[0], axis=-1)"
   ]
  },
  {
   "cell_type": "code",
   "execution_count": 4,
   "metadata": {},
   "outputs": [],
   "source": [
    "def categorizar_local(ruta_imagen):\n",
    "    img = cv2.imread(ruta_imagen)\n",
    "    \n",
    "    if img is None:\n",
    "        raise Exception(f\"No se pudo cargar la imagen en {ruta_imagen}\")\n",
    "    img = cv2.resize(img, (224, 224))\n",
    "    img = img / 255.0\n",
    "    img = img.reshape(-1, 224, 224, 3)\n",
    "    prediccion = modelo.predict(img)\n",
    "    print(prediccion)\n",
    "    return np.argmax(prediccion[0], axis=-1)"
   ]
  },
  {
   "cell_type": "code",
   "execution_count": 6,
   "metadata": {},
   "outputs": [
    {
     "name": "stdout",
     "output_type": "stream",
     "text": [
      "1/1 [==============================] - 0s 126ms/step\n",
      "[[0.01668273 0.00786087 0.00874044 0.02747273 0.79774684 0.00845556\n",
      "  0.13304077]]\n",
      "LA HINIESTA\n"
     ]
    }
   ],
   "source": [
    "#0 = jesus, 1 = hiniesta, 2 = paz\n",
    "url = 'https://encrypted-tbn0.gstatic.com/images?q=tbn:ANd9GcQjloCNXVbKHmjkDOZiECiazV5J3MpHjxtu5A&usqp=CAU' #debe ser la hiniesta\n",
    "prediccion = categorizar (url)\n",
    "print(hermandades[prediccion])"
   ]
  },
  {
   "cell_type": "code",
   "execution_count": null,
   "metadata": {},
   "outputs": [],
   "source": [
    "ruta_imagen = 'C:\\\\Users\\\\super\\\\OneDrive\\\\Escritorio\\\\Captura de pantalla 2024-01-17 184200.png'\n",
    "print(hermandades[categorizar_local(ruta_imagen)])"
   ]
  }
 ],
 "metadata": {
  "kernelspec": {
   "display_name": "venv",
   "language": "python",
   "name": "python3"
  },
  "language_info": {
   "codemirror_mode": {
    "name": "ipython",
    "version": 3
   },
   "file_extension": ".py",
   "mimetype": "text/x-python",
   "name": "python",
   "nbconvert_exporter": "python",
   "pygments_lexer": "ipython3",
   "version": "3.11.5"
  }
 },
 "nbformat": 4,
 "nbformat_minor": 2
}
